{
 "cells": [
  {
   "cell_type": "code",
   "execution_count": 1,
   "metadata": {},
   "outputs": [],
   "source": [
    "import scineo as sn\n",
    "import numpy as np\n",
    "import matplotlib.pyplot as plt\n",
    "import time\n",
    "import pandas as pd"
   ]
  },
  {
   "cell_type": "code",
   "execution_count": 2,
   "metadata": {},
   "outputs": [],
   "source": [
    "train,train_y,test,test_y = np.load(\"DataSet/No4.npy\")"
   ]
  },
  {
   "cell_type": "code",
   "execution_count": 3,
   "metadata": {},
   "outputs": [],
   "source": [
    "\n",
    "train_x,test_x = train.reshape(-1,128*128),test.reshape(-1,128*128)\n",
    "X = np.concatenate([train_x,test_x])\n",
    "key = list(map(lambda x:x*0.04, range(1,25)))"
   ]
  },
  {
   "cell_type": "code",
   "execution_count": null,
   "metadata": {},
   "outputs": [],
   "source": [
    "start = time.time()\n",
    "l_1 = []\n",
    "for i in range(3,46):\n",
    "    mat = sn.pca(X,n_components=i)\n",
    "    train_x,test_x = mat[:len(train_y)],mat[len(train_y):]\n",
    "    detail = mat.shape[1]\n",
    "    l_2 = []\n",
    "    for j in range(1,31):\n",
    "        print(\"\")\n",
    "        print(\"pca = %.2f\\tdetail = %d\\tK = %d\\t\"%(i,detail,j))\n",
    "        ac = sn.predict_knn(train_x,train_y,test_x,test_y,neighbors=j,show=True)\n",
    "        l_2.append(ac)\n",
    "    l_1.append(l_2)\n",
    "print(\"\\ntiem = %.2fS\"%(time.time() - start))"
   ]
  },
  {
   "cell_type": "code",
   "execution_count": 13,
   "metadata": {},
   "outputs": [
    {
     "data": {
      "image/png": "[encoded data removed]",
      "text/plain": [
       "<matplotlib.figure.Figure at 0x11aa09ef0>"
      ]
     },
     "metadata": {},
     "output_type": "display_data"
    }
   ],
   "source": [
    "plt.plot(l[13])\n",
    "plt.title(\"PCA+KNN\")\n",
    "plt.xlabel(\"detail\")\n",
    "plt.show()"
   ]
  },
  {
   "cell_type": "code",
   "execution_count": null,
   "metadata": {},
   "outputs": [],
   "source": [
    "pk = pd.DataFrame(l_1)\n",
    "pk.columns = list(range(1,31))\n",
    "pk.index = list(range(3,46))\n",
    "#pk.to_csv(\"DataSet/pac_knn.csv\")\n",
    "print(\"训练样本数:%d\\t测试样本数:%d\"%(len(train_x),len(test_y)))\n",
    "print(\"最大识别率:%.2f%%\"%(pk.max().max()*100))\n",
    "print(\"横坐标为KNN参数, 纵坐标为PCA提起的特征维数\")\n",
    "print(pk)\n"
   ]
  },
  {
   "cell_type": "code",
   "execution_count": 26,
   "metadata": {},
   "outputs": [
    {
     "data": {
      "text/plain": [
       "numpy.ndarray"
      ]
     },
     "execution_count": 26,
     "metadata": {},
     "output_type": "execute_result"
    }
   ],
   "source": [
    "pk.values == pk.max().max()\n"
   ]
  },
  {
   "cell_type": "code",
   "execution_count": 29,
   "metadata": {},
   "outputs": [],
   "source": [
    "def show_max(mat):\n",
    "\tfor i in mat.columns:\n",
    "\t\tfor j in mat.index:\n",
    "\t\t\tif mat[i][j] == mat.max().max():\n",
    "\t\t\t\tprint(\"n = %s\\tk = %s\\t有最大识别率:%.2f%%\"%(j,i,mat.max().max()*100))"
   ]
  },
  {
   "cell_type": "code",
   "execution_count": 30,
   "metadata": {},
   "outputs": [
    {
     "name": "stdout",
     "output_type": "stream",
     "text": [
      "n = 13\tk = 5\t有最大识别率:99.24%\n"
     ]
    }
   ],
   "source": [
    "show_max(pk)"
   ]
  },
  {
   "cell_type": "code",
   "execution_count": null,
   "metadata": {},
   "outputs": [],
   "source": []
  }
 ],
 "metadata": {
  "kernelspec": {
   "display_name": "Python 3",
   "language": "python",
   "name": "python3"
  },
  "language_info": {
   "codemirror_mode": {
    "name": "ipython",
    "version": 3
   },
   "file_extension": ".py",
   "mimetype": "text/x-python",
   "name": "python",
   "nbconvert_exporter": "python",
   "pygments_lexer": "ipython3",
   "version": "3.5.4"
  }
 },
 "nbformat": 4,
 "nbformat_minor": 2
}
