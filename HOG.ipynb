{
 "cells": [
  {
   "cell_type": "code",
   "execution_count": 1,
   "metadata": {},
   "outputs": [],
   "source": [
    "import scineo as sn\n",
    "import numpy as np\n",
    "import matplotlib.pyplot as plt\n",
    "import time\n",
    "import pandas as pd"
   ]
  },
  {
   "cell_type": "raw",
   "metadata": {},
   "source": [
    "读取文件"
   ]
  },
  {
   "cell_type": "code",
   "execution_count": 15,
   "metadata": {},
   "outputs": [],
   "source": [
    "npy = np.load(\"DataSet/No4.npy\")"
   ]
  },
  {
   "cell_type": "code",
   "execution_count": null,
   "metadata": {},
   "outputs": [],
   "source": [
    "orientations=9, pixels_per_cell=(8, 8),cells_per_block=(3, 3)"
   ]
  },
  {
   "cell_type": "code",
   "execution_count": 42,
   "metadata": {},
   "outputs": [
    {
     "name": "stdout",
     "output_type": "stream",
     "text": [
      "transform time : 11.01 S\t detail : 2016\n"
     ]
    }
   ],
   "source": [
    "mat = sn.hog_mat(npy,orientations=18,pixels_per_cell=(16,16),cells_per_block=(1,2))"
   ]
  },
  {
   "cell_type": "code",
   "execution_count": 20,
   "metadata": {},
   "outputs": [
    {
     "name": "stdout",
     "output_type": "stream",
     "text": [
      "transform time : 23.88 S\t detail : 15876\n"
     ]
    }
   ],
   "source": [
    "mat = sn.hog_mat(npy)"
   ]
  },
  {
   "cell_type": "code",
   "execution_count": 50,
   "metadata": {},
   "outputs": [
    {
     "data": {
      "text/plain": [
       "56"
      ]
     },
     "execution_count": 50,
     "metadata": {},
     "output_type": "execute_result"
    }
   ],
   "source": [
    "2016 // 18//2"
   ]
  },
  {
   "cell_type": "code",
   "execution_count": 53,
   "metadata": {},
   "outputs": [
    {
     "data": {
      "text/plain": [
       "4"
      ]
     },
     "execution_count": 53,
     "metadata": {},
     "output_type": "execute_result"
    }
   ],
   "source": [
    "64//16"
   ]
  },
  {
   "cell_type": "code",
   "execution_count": 23,
   "metadata": {},
   "outputs": [
    {
     "data": {
      "text/plain": [
       "1764"
      ]
     },
     "execution_count": 23,
     "metadata": {},
     "output_type": "execute_result"
    }
   ],
   "source": []
  },
  {
   "cell_type": "code",
   "execution_count": 14,
   "metadata": {},
   "outputs": [
    {
     "name": "stdout",
     "output_type": "stream",
     "text": [
      "\n",
      "pca = 1\tdetail = 1\n",
      "training took 0.082568s!\n",
      "识别率为:69.46%\n",
      "\n",
      "pca = 2\tdetail = 2\n",
      "training took 0.061575s!\n",
      "识别率为:72.75%\n",
      "\n",
      "pca = 3\tdetail = 3\n",
      "training took 0.026942s!\n",
      "识别率为:93.79%\n",
      "\n",
      "pca = 4\tdetail = 4\n",
      "training took 0.023008s!\n",
      "识别率为:96.45%\n",
      "\n",
      "pca = 5\tdetail = 5\n",
      "training took 0.022327s!\n",
      "识别率为:96.83%\n",
      "\n",
      "pca = 6\tdetail = 6\n",
      "training took 0.024521s!\n",
      "识别率为:96.96%\n",
      "\n",
      "pca = 7\tdetail = 7\n",
      "training took 0.025796s!\n",
      "识别率为:97.85%\n",
      "\n",
      "pca = 8\tdetail = 8\n",
      "training took 0.028365s!\n",
      "识别率为:97.72%\n",
      "\n",
      "pca = 9\tdetail = 9\n",
      "training took 0.030204s!\n",
      "识别率为:98.73%\n",
      "\n",
      "pca = 10\tdetail = 10\n",
      "training took 0.032526s!\n",
      "识别率为:98.48%\n",
      "\n",
      "pca = 11\tdetail = 11\n",
      "training took 0.036139s!\n",
      "识别率为:98.61%\n",
      "\n",
      "pca = 12\tdetail = 12\n",
      "training took 0.037793s!\n",
      "识别率为:98.48%\n",
      "\n",
      "pca = 13\tdetail = 13\n",
      "training took 0.040084s!\n",
      "识别率为:97.59%\n",
      "\n",
      "pca = 14\tdetail = 14\n",
      "training took 0.043229s!\n",
      "识别率为:97.47%\n",
      "\n",
      "pca = 15\tdetail = 15\n",
      "training took 0.047191s!\n",
      "识别率为:97.34%\n",
      "\n",
      "pca = 16\tdetail = 16\n",
      "training took 0.050237s!\n",
      "识别率为:97.21%\n",
      "\n",
      "pca = 17\tdetail = 17\n",
      "training took 0.052246s!\n",
      "识别率为:97.59%\n",
      "\n",
      "pca = 18\tdetail = 18\n",
      "training took 0.055118s!\n",
      "识别率为:97.59%\n",
      "\n",
      "pca = 19\tdetail = 19\n",
      "training took 0.058035s!\n",
      "识别率为:97.72%\n",
      "\n",
      "tiem = 95.21S\n"
     ]
    }
   ],
   "source": [
    "train_x,train_y,test_x,test_y = mat\n",
    "X = np.concatenate([train_x,test_x])\n",
    "start = time.time()\n",
    "l_1 = []\n",
    "#i为pca提取后的维度数\n",
    "index = list(range(1,20))\n",
    "for i in index:\n",
    "    mat = sn.pca(X,n_components=i)\n",
    "    train_x,test_x = mat[:len(train_y)],mat[len(train_y):]\n",
    "    detail = mat.shape[1]\n",
    "    l_2 = []\n",
    "    #j为knn中k的值\n",
    "    print(\"\")\n",
    "    print(\"pca = %d\\tdetail = %d\"%(i,i))\n",
    "    ac = sn.predict_svm(train_x,train_y,test_x,test_y,show=True)\n",
    "    #ac = sn.predict_svm(train_x,train_y,test_x,test_y,show=True)\n",
    "    l_1.append(ac)\n",
    "print(\"\\ntiem = %.2fS\"%(time.time() - start))"
   ]
  },
  {
   "cell_type": "code",
   "execution_count": 7,
   "metadata": {},
   "outputs": [
    {
     "name": "stdout",
     "output_type": "stream",
     "text": [
      "training took 28.331172s!\n",
      "识别率为:85.68%\n"
     ]
    },
    {
     "data": {
      "text/plain": [
       "0.85678073510773134"
      ]
     },
     "execution_count": 7,
     "metadata": {},
     "output_type": "execute_result"
    }
   ],
   "source": [
    "train_x,train_y,test_x,test_y = mat\n",
    "sn.pca(mat= mat)\n",
    "sn.predict_knn(train_x,train_y,test_x,test_y,show=True)"
   ]
  },
  {
   "cell_type": "code",
   "execution_count": 10,
   "metadata": {},
   "outputs": [
    {
     "name": "stdout",
     "output_type": "stream",
     "text": [
      "training took 57.149348s!\n",
      "识别率为:25.60%\n"
     ]
    },
    {
     "data": {
      "text/plain": [
       "0.25602027883396705"
      ]
     },
     "execution_count": 10,
     "metadata": {},
     "output_type": "execute_result"
    }
   ],
   "source": [
    "sn.predict_svm(train_x,train_y,test_x,test_y,show=True)"
   ]
  },
  {
   "cell_type": "code",
   "execution_count": null,
   "metadata": {},
   "outputs": [],
   "source": []
  }
 ],
 "metadata": {
  "kernelspec": {
   "display_name": "Python 3",
   "language": "python",
   "name": "python3"
  },
  "language_info": {
   "codemirror_mode": {
    "name": "ipython",
    "version": 3
   },
   "file_extension": ".py",
   "mimetype": "text/x-python",
   "name": "python",
   "nbconvert_exporter": "python",
   "pygments_lexer": "ipython3",
   "version": "3.6.3"
  }
 },
 "nbformat": 4,
 "nbformat_minor": 2
}
