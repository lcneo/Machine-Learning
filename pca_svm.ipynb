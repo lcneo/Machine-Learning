{
 "cells": [
  {
   "cell_type": "code",
   "execution_count": 1,
   "metadata": {},
   "outputs": [],
   "source": [
    "import scineo as sn\n",
    "import numpy as np\n",
    "import matplotlib.pyplot as plt\n",
    "import time\n",
    "import pandas as pd"
   ]
  },
  {
   "cell_type": "code",
   "execution_count": 2,
   "metadata": {},
   "outputs": [],
   "source": [
    "def show_max(mat):\n",
    "    for i in mat.columns:\n",
    "        for j in mat.index:\n",
    "            if mat[i][j] == mat.max().max():\n",
    "                print(\"k = %s\\t有最大识别率:%.2f%%\"%(j,mat.max().max()*100))"
   ]
  },
  {
   "cell_type": "code",
   "execution_count": 3,
   "metadata": {},
   "outputs": [],
   "source": [
    "#读取文件\n",
    "train,train_y,test,test_y = np.load(\"DataSet/No4.npy\")\n",
    "#将图片拉升成一行\n",
    "train_x,test_x = train.reshape(-1,128*128),test.reshape(-1,128*128)\n",
    "#将样本合并成一个矩阵进行pca\n",
    "X = np.concatenate([train_x,test_x])"
   ]
  },
  {
   "cell_type": "code",
   "execution_count": null,
   "metadata": {},
   "outputs": [],
   "source": [
    "start = time.time()\n",
    "l_1 = []\n",
    "pca_number = 1892\n",
    "#i为pca提取后的维度数\n",
    "index = list(range(1,350,3))\n",
    "for i in index:\n",
    "    mat = sn.pca(X,n_components=i)\n",
    "    train_x,test_x = mat[:len(train_y)],mat[len(train_y):]\n",
    "    detail = mat.shape[1]\n",
    "    l_2 = []\n",
    "    #j为knn中k的值\n",
    "    print(\"\")\n",
    "    print(\"pca = %f\\tdetail = %d\"%(i,i))\n",
    "    #ac = sn.predict_svm(train_x,train_y,test_x,test_y,show=True)\n",
    "    ac = sn.predict_svm(train_x,train_y,test_x,test_y,show=True)\n",
    "    l_1.append(ac)\n",
    "print(\"\\ntiem = %.2fS\"%(time.time() - start))"
   ]
  },
  {
   "cell_type": "code",
   "execution_count": 12,
   "metadata": {},
   "outputs": [
    {
     "name": "stdout",
     "output_type": "stream",
     "text": [
      "训练样本数:1342\t测试样本数:789\n",
      "k = 49\t有最大识别率:99.75%\n",
      "k = 52\t有最大识别率:99.75%\n",
      "k = 55\t有最大识别率:99.75%\n",
      "k = 58\t有最大识别率:99.75%\n"
     ]
    }
   ],
   "source": [
    "ps = pd.DataFrame(l_1)\n",
    "ps.columns = [\"RBF\"]\n",
    "ps.index = index\n",
    "ps.to_csv(\"DataSet/pca_svm.csv\")\n",
    "print(\"训练样本数:%d\\t测试样本数:%d\"%(len(train_x),len(test_y)))\n",
    "show_max(ps)"
   ]
  },
  {
   "cell_type": "code",
   "execution_count": 14,
   "metadata": {},
   "outputs": [
    {
     "data": {
      "image/png": "[encoded data removed]",
      "text/plain": [
       "<matplotlib.figure.Figure at 0x7fdef9937160>"
      ]
     },
     "metadata": {},
     "output_type": "display_data"
    }
   ],
   "source": [
    "#ps = pd.read_csv(\"DataSet/pca_svm.csv\")\n",
    "im = ps.plot(figsize=(15,5))\n",
    "plt.title(\"PCA+SVM\\n( train: %d,  test: %d, p_max = %.2f%%)\"%(len(train_x),len(test_y),ps.max().max()*100))\n",
    "plt.\n",
    "plt.xlabel(\"K\")\n",
    "plt.ylabel(\"P\")\n",
    "plt.savefig(\"DataSet/image/pca_svm.png\")\n",
    "plt.show()"
   ]
  },
  {
   "cell_type": "code",
   "execution_count": null,
   "metadata": {},
   "outputs": [],
   "source": []
  },
  {
   "cell_type": "code",
   "execution_count": null,
   "metadata": {},
   "outputs": [],
   "source": []
  }
 ],
 "metadata": {
  "kernelspec": {
   "display_name": "Python 3",
   "language": "python",
   "name": "python3"
  },
  "language_info": {
   "codemirror_mode": {
    "name": "ipython",
    "version": 3
   },
   "file_extension": ".py",
   "mimetype": "text/x-python",
   "name": "python",
   "nbconvert_exporter": "python",
   "pygments_lexer": "ipython3",
   "version": "3.6.3"
  }
 },
 "nbformat": 4,
 "nbformat_minor": 2
}
