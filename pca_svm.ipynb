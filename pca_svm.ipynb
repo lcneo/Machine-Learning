{
 "cells": [
  {
   "cell_type": "code",
   "execution_count": 1,
   "metadata": {},
   "outputs": [],
   "source": [
    "import scineo as sn\n",
    "import numpy as np\n",
    "import matplotlib.pyplot as plt\n",
    "import time\n",
    "import pandas as pd"
   ]
  },
  {
   "cell_type": "code",
   "execution_count": 2,
   "metadata": {},
   "outputs": [],
   "source": [
    "def show_max(mat):\n",
    "    for i in mat.columns:\n",
    "        for j in mat.index:\n",
    "            if mat[i][j] == mat.max().max():\n",
    "                print(\"k = %s\\t有最大识别率:%.2f%%\"%(j,mat.max().max()*100))"
   ]
  },
  {
   "cell_type": "code",
   "execution_count": 3,
   "metadata": {},
   "outputs": [],
   "source": [
    "#读取文件\n",
    "train,train_y,test,test_y = np.load(\"DataSet/No4.npy\")\n",
    "#将图片拉升成一行\n",
    "train_x,test_x = train.reshape(-1,128*128),test.reshape(-1,128*128)\n",
    "#将样本合并成一个矩阵进行pca\n",
    "X = np.concatenate([train_x,test_x])"
   ]
  },
  {
   "cell_type": "code",
   "execution_count": null,
   "metadata": {},
   "outputs": [
    {
     "name": "stdout",
     "output_type": "stream",
     "text": [
      "\n",
      "pca = 1.000000\tdetail = 1\n",
      "training took 0.233604s!\n",
      "识别率为:57.54%\n",
      "\n",
      "pca = 4.000000\tdetail = 4\n",
      "training took 0.078973s!\n",
      "识别率为:87.45%\n",
      "\n",
      "pca = 7.000000\tdetail = 7\n",
      "training took 0.074757s!\n",
      "识别率为:94.17%\n",
      "\n",
      "pca = 10.000000\tdetail = 10\n",
      "training took 0.050244s!\n",
      "识别率为:96.96%\n",
      "\n",
      "pca = 13.000000\tdetail = 13\n",
      "training took 0.072226s!\n",
      "识别率为:99.11%\n",
      "\n",
      "pca = 16.000000\tdetail = 16\n",
      "training took 0.070240s!\n",
      "识别率为:97.47%\n",
      "\n",
      "pca = 19.000000\tdetail = 19\n",
      "training took 0.076953s!\n",
      "识别率为:96.96%\n",
      "\n",
      "pca = 22.000000\tdetail = 22\n",
      "training took 0.082774s!\n",
      "识别率为:98.73%\n",
      "\n",
      "pca = 25.000000\tdetail = 25\n",
      "training took 0.099418s!\n",
      "识别率为:98.10%\n",
      "\n",
      "pca = 28.000000\tdetail = 28\n",
      "training took 0.110583s!\n",
      "识别率为:98.86%\n",
      "\n",
      "pca = 31.000000\tdetail = 31\n",
      "training took 0.131037s!\n",
      "识别率为:98.99%\n",
      "\n",
      "pca = 34.000000\tdetail = 34\n",
      "training took 0.145514s!\n",
      "识别率为:99.37%\n",
      "\n",
      "pca = 37.000000\tdetail = 37\n",
      "training took 0.163326s!\n",
      "识别率为:99.62%\n",
      "\n",
      "pca = 40.000000\tdetail = 40\n",
      "training took 0.178019s!\n",
      "识别率为:99.62%\n",
      "\n",
      "pca = 43.000000\tdetail = 43\n",
      "training took 0.196532s!\n",
      "识别率为:99.62%\n",
      "\n",
      "pca = 46.000000\tdetail = 46\n",
      "training took 0.210084s!\n",
      "识别率为:99.62%\n",
      "\n",
      "pca = 49.000000\tdetail = 49\n",
      "training took 0.225522s!\n",
      "识别率为:99.75%\n",
      "\n",
      "pca = 52.000000\tdetail = 52\n",
      "training took 0.247408s!\n",
      "识别率为:99.75%\n",
      "\n",
      "pca = 55.000000\tdetail = 55\n",
      "training took 0.285817s!\n",
      "识别率为:99.75%\n",
      "\n",
      "pca = 58.000000\tdetail = 58\n",
      "training took 0.306662s!\n",
      "识别率为:99.75%\n",
      "\n",
      "pca = 61.000000\tdetail = 61\n",
      "training took 0.329235s!\n",
      "识别率为:99.62%\n",
      "\n",
      "pca = 64.000000\tdetail = 64\n",
      "training took 0.343921s!\n",
      "识别率为:99.62%\n",
      "\n",
      "pca = 67.000000\tdetail = 67\n",
      "training took 0.355057s!\n",
      "识别率为:99.62%\n",
      "\n",
      "pca = 70.000000\tdetail = 70\n",
      "training took 0.369522s!\n",
      "识别率为:99.49%\n",
      "\n",
      "pca = 73.000000\tdetail = 73\n",
      "training took 0.382519s!\n",
      "识别率为:99.49%\n",
      "\n",
      "pca = 76.000000\tdetail = 76\n",
      "training took 0.400985s!\n",
      "识别率为:99.49%\n"
     ]
    }
   ],
   "source": [
    "start = time.time()\n",
    "l_1 = []\n",
    "pca_number = 1892\n",
    "#i为pca提取后的维度数\n",
    "index = list(range(1,350,3))\n",
    "for i in index:\n",
    "    mat = sn.pca(X,n_components=i)\n",
    "    train_x,test_x = mat[:len(train_y)],mat[len(train_y):]\n",
    "    detail = mat.shape[1]\n",
    "    l_2 = []\n",
    "    #j为knn中k的值\n",
    "    print(\"\")\n",
    "    print(\"pca = %f\\tdetail = %d\"%(i,i))\n",
    "    #ac = sn.predict_svm(train_x,train_y,test_x,test_y,show=True)\n",
    "    ac = sn.predict_svm(train_x,train_y,test_x,test_y,show=True)\n",
    "    l_1.append(ac)\n",
    "print(\"\\ntiem = %.2fS\"%(time.time() - start))"
   ]
  },
  {
   "cell_type": "code",
   "execution_count": 12,
   "metadata": {},
   "outputs": [
    {
     "name": "stdout",
     "output_type": "stream",
     "text": [
      "训练样本数:1342\t测试样本数:789\n",
      "k = 49\t有最大识别率:99.75%\n",
      "k = 52\t有最大识别率:99.75%\n",
      "k = 55\t有最大识别率:99.75%\n",
      "k = 58\t有最大识别率:99.75%\n"
     ]
    }
   ],
   "source": [
    "ps = pd.DataFrame(l_1)\n",
    "ps.columns = [\"RBF\"]\n",
    "ps.index = index\n",
    "ps.to_csv(\"DataSet/pca_svm.csv\")\n",
    "print(\"训练样本数:%d\\t测试样本数:%d\"%(len(train_x),len(test_y)))\n",
    "show_max(ps)"
   ]
  },
  {
   "cell_type": "code",
   "execution_count": 16,
   "metadata": {},
   "outputs": [
    {
     "data": {
      "image/png": "[encoded data removed]",
      "text/plain": [
       "<matplotlib.figure.Figure at 0x7fdef99f6860>"
      ]
     },
     "metadata": {},
     "output_type": "display_data"
    }
   ],
   "source": [
    "#ps = pd.read_csv(\"DataSet/pca_svm.csv\")\n",
    "im = ps.plot(figsize=(12,5))\n",
    "plt.title(\"PCA + SVM\\n(  train: %d,    test: %d    max = %.2f%%  )\"%(len(train_x),len(test_y),ps.max().max()*100))\n",
    "plt.xlabel(\"K\")\n",
    "plt.ylabel(\"P\")\n",
    "plt.savefig(\"DataSet/image/pca_svm.png\")\n",
    "plt.show()"
   ]
  },
  {
   "cell_type": "code",
   "execution_count": null,
   "metadata": {},
   "outputs": [],
   "source": []
  },
  {
   "cell_type": "code",
   "execution_count": null,
   "metadata": {},
   "outputs": [],
   "source": []
  }
 ],
 "metadata": {
  "kernelspec": {
   "display_name": "Python 3",
   "language": "python",
   "name": "python3"
  },
  "language_info": {
   "codemirror_mode": {
    "name": "ipython",
    "version": 3
   },
   "file_extension": ".py",
   "mimetype": "text/x-python",
   "name": "python",
   "nbconvert_exporter": "python",
   "pygments_lexer": "ipython3",
   "version": "3.6.3"
  }
 },
 "nbformat": 4,
 "nbformat_minor": 2
}
